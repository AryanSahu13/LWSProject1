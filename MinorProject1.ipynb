{
  "nbformat": 4,
  "nbformat_minor": 0,
  "metadata": {
    "colab": {
      "provenance": [],
      "include_colab_link": true
    },
    "kernelspec": {
      "name": "python3",
      "display_name": "Python 3"
    },
    "language_info": {
      "name": "python"
    }
  },
  "cells": [
    {
      "cell_type": "markdown",
      "metadata": {
        "id": "view-in-github",
        "colab_type": "text"
      },
      "source": [
        "<a href=\"https://colab.research.google.com/github/AryanSahu13/LWSProject1/blob/main/MinorProject1.ipynb\" target=\"_parent\"><img src=\"https://colab.research.google.com/assets/colab-badge.svg\" alt=\"Open In Colab\"/></a>"
      ]
    },
    {
      "cell_type": "markdown",
      "source": [
        "Aryan Sahu, Minor Project 1, Learnwik Solutions"
      ],
      "metadata": {
        "id": "0pqwLJhMkYhy"
      }
    },
    {
      "cell_type": "markdown",
      "source": [
        "#**Minor Project 1: Binary Classification using Artificial Neural Network**\n",
        "\n",
        "Dataset: MNIST Handwritten digits dataset\n",
        "\n",
        "Algorithm: Artificial Neural Network (ANN)\n",
        "\n",
        "Methodology:\n",
        "\n",
        "1. Load the MNIST dataset and split it into training and testing sets\n",
        "\n",
        "2. Preprocess the data by normalizing and flattening the images\n",
        "\n",
        "3. Build an ANN model using Keras\n",
        "\n",
        "4. Train the model on the training set and evaluate it on the testing set\n",
        "\n",
        "5. Visualize the model's performance using confusion matrix and classification report"
      ],
      "metadata": {
        "id": "gqTYkzqQkOqR"
      }
    },
    {
      "cell_type": "markdown",
      "source": [
        "Step 1: Import the necessary libraries"
      ],
      "metadata": {
        "id": "3W8-JUkfkgOd"
      }
    },
    {
      "cell_type": "code",
      "source": [
        "import numpy as np\n",
        "import matplotlib.pyplot as plt\n",
        "from sklearn.model_selection import train_test_split\n",
        "from sklearn.metrics import classification_report, confusion_matrix\n",
        "from tensorflow import keras"
      ],
      "metadata": {
        "id": "UQSOF4MNkODs"
      },
      "execution_count": null,
      "outputs": []
    },
    {
      "cell_type": "markdown",
      "source": [
        "Step 2: Load the MNIST dataset"
      ],
      "metadata": {
        "id": "FUpwWaJKklFl"
      }
    },
    {
      "cell_type": "code",
      "source": [
        "mnist = keras.datasets.mnist\n",
        "(X_train_full, y_train_full), (X_test, y_test) = mnist.load_data()"
      ],
      "metadata": {
        "id": "dt4mqVvQknBE",
        "colab": {
          "base_uri": "https://localhost:8080/"
        },
        "outputId": "8284fa36-52ea-4632-d130-83f9309fe262"
      },
      "execution_count": null,
      "outputs": [
        {
          "output_type": "stream",
          "name": "stdout",
          "text": [
            "Downloading data from https://storage.googleapis.com/tensorflow/tf-keras-datasets/mnist.npz\n",
            "11490434/11490434 [==============================] - 1s 0us/step\n"
          ]
        }
      ]
    },
    {
      "cell_type": "markdown",
      "source": [
        "Step 3: Preprocess the data"
      ],
      "metadata": {
        "id": "0waSFD9OkqsV"
      }
    },
    {
      "cell_type": "code",
      "source": [
        "# Normalize the pixel values between 0 and 1\n",
        "X_train_full = X_train_full / 255.0\n",
        "X_test = X_test / 255.0\n",
        "\n",
        "# Flatten the images from 28x28 to 784-dimensional vectors\n",
        "X_train = X_train_full.reshape(-1, 784)\n",
        "X_test = X_test.reshape(-1, 784)\n",
        "\n",
        "# Split the training set into training and validation sets\n",
        "X_train, X_val, y_train, y_val = train_test_split(X_train, y_train_full, test_size=0.2, random_state=42)"
      ],
      "metadata": {
        "id": "VT9FpEsQkreF"
      },
      "execution_count": null,
      "outputs": []
    },
    {
      "cell_type": "markdown",
      "source": [
        "Step 4: Build the ANN model"
      ],
      "metadata": {
        "id": "_jtk0J2vktNz"
      }
    },
    {
      "cell_type": "code",
      "source": [
        "model = keras.models.Sequential([\n",
        "    keras.layers.Dense(128, activation='relu', input_shape=(784,)),\n",
        "    keras.layers.Dense(64, activation='relu'),\n",
        "    keras.layers.Dense(10, activation='softmax')\n",
        "])"
      ],
      "metadata": {
        "id": "_PO8Swaxkv8Y"
      },
      "execution_count": null,
      "outputs": []
    },
    {
      "cell_type": "markdown",
      "source": [
        "Step 5: Compile and train the model"
      ],
      "metadata": {
        "id": "Lj9Zf-jrk1m2"
      }
    },
    {
      "cell_type": "code",
      "source": [
        "model.compile(optimizer='adam', loss='sparse_categorical_crossentropy', metrics=['accuracy'])\n",
        "history = model.fit(X_train, y_train, epochs=10, validation_data=(X_val, y_val))"
      ],
      "metadata": {
        "colab": {
          "base_uri": "https://localhost:8080/"
        },
        "id": "Yn7VtMLFkzYy",
        "outputId": "2b44b0cc-f61b-402a-acab-734bbffc241c"
      },
      "execution_count": null,
      "outputs": [
        {
          "output_type": "stream",
          "name": "stdout",
          "text": [
            "Epoch 1/10\n",
            "1500/1500 [==============================] - 6s 3ms/step - loss: 0.2656 - accuracy: 0.9218 - val_loss: 0.1268 - val_accuracy: 0.9607\n",
            "Epoch 2/10\n",
            "1500/1500 [==============================] - 5s 3ms/step - loss: 0.1094 - accuracy: 0.9667 - val_loss: 0.1003 - val_accuracy: 0.9690\n",
            "Epoch 3/10\n",
            "1500/1500 [==============================] - 5s 3ms/step - loss: 0.0775 - accuracy: 0.9755 - val_loss: 0.0895 - val_accuracy: 0.9716\n",
            "Epoch 4/10\n",
            "1500/1500 [==============================] - 5s 3ms/step - loss: 0.0596 - accuracy: 0.9812 - val_loss: 0.1093 - val_accuracy: 0.9697\n",
            "Epoch 5/10\n",
            "1500/1500 [==============================] - 5s 4ms/step - loss: 0.0456 - accuracy: 0.9850 - val_loss: 0.0918 - val_accuracy: 0.9733\n",
            "Epoch 6/10\n",
            "1500/1500 [==============================] - 5s 3ms/step - loss: 0.0357 - accuracy: 0.9885 - val_loss: 0.0863 - val_accuracy: 0.9751\n",
            "Epoch 7/10\n",
            "1500/1500 [==============================] - 6s 4ms/step - loss: 0.0287 - accuracy: 0.9905 - val_loss: 0.1100 - val_accuracy: 0.9710\n",
            "Epoch 8/10\n",
            "1500/1500 [==============================] - 6s 4ms/step - loss: 0.0258 - accuracy: 0.9918 - val_loss: 0.0885 - val_accuracy: 0.9788\n",
            "Epoch 9/10\n",
            "1500/1500 [==============================] - 7s 5ms/step - loss: 0.0215 - accuracy: 0.9931 - val_loss: 0.1028 - val_accuracy: 0.9755\n",
            "Epoch 10/10\n",
            "1500/1500 [==============================] - 5s 3ms/step - loss: 0.0192 - accuracy: 0.9934 - val_loss: 0.1055 - val_accuracy: 0.9765\n"
          ]
        }
      ]
    },
    {
      "cell_type": "markdown",
      "source": [
        "Step 6: Evaluate the model on the testing set"
      ],
      "metadata": {
        "id": "zuU5dEmOk4XC"
      }
    },
    {
      "cell_type": "code",
      "source": [
        "_, test_acc = model.evaluate(X_test, y_test)\n",
        "print('Test accuracy:', test_acc)"
      ],
      "metadata": {
        "colab": {
          "base_uri": "https://localhost:8080/"
        },
        "id": "n39k1w9Tk6qg",
        "outputId": "b1b38850-70c9-41a8-ddd3-65f640387e6c"
      },
      "execution_count": null,
      "outputs": [
        {
          "output_type": "stream",
          "name": "stdout",
          "text": [
            "313/313 [==============================] - 1s 1ms/step - loss: 0.1159 - accuracy: 0.9728\n",
            "Test accuracy: 0.9728000164031982\n"
          ]
        }
      ]
    },
    {
      "cell_type": "markdown",
      "source": [
        "Step 7: Visualize the model's performance"
      ],
      "metadata": {
        "id": "GU_89Kz0k__o"
      }
    },
    {
      "cell_type": "code",
      "source": [
        "# Visualize the model's performance\n",
        "y_pred_prob = model.predict(X_test)\n",
        "y_pred = np.argmax(y_pred_prob, axis=1)\n",
        "\n",
        "cm = confusion_matrix(y_test, y_pred)\n",
        "cr = classification_report(y_test, y_pred)\n",
        "\n",
        "print('Confusion Matrix:')\n",
        "print(cm)\n",
        "print('\\nClassification Report:')\n",
        "print(cr)"
      ],
      "metadata": {
        "colab": {
          "base_uri": "https://localhost:8080/"
        },
        "id": "YVwNSyHTlDUu",
        "outputId": "3f98b811-39fc-4afc-823f-45c4a3709fe7"
      },
      "execution_count": null,
      "outputs": [
        {
          "output_type": "stream",
          "name": "stdout",
          "text": [
            "313/313 [==============================] - 0s 1ms/step\n",
            "Confusion Matrix:\n",
            "[[ 967    1    2    0    1    0    5    1    3    0]\n",
            " [   0 1126    2    1    0    0    1    1    4    0]\n",
            " [   2    1 1004    8    4    0    2    3    8    0]\n",
            " [   1    0    3  996    0    0    0    1    7    2]\n",
            " [   1    1    3    0  967    0    4    2    1    3]\n",
            " [   3    0    0   36    2  820    8    1   19    3]\n",
            " [   1    3    1    2    2    3  944    0    1    1]\n",
            " [   1    6    9    4    7    0    0  990    5    6]\n",
            " [   0    0    2    5    4    2    0    3  955    3]\n",
            " [   1    2    0   12   18    0    2    5   10  959]]\n",
            "\n",
            "Classification Report:\n",
            "              precision    recall  f1-score   support\n",
            "\n",
            "           0       0.99      0.99      0.99       980\n",
            "           1       0.99      0.99      0.99      1135\n",
            "           2       0.98      0.97      0.98      1032\n",
            "           3       0.94      0.99      0.96      1010\n",
            "           4       0.96      0.98      0.97       982\n",
            "           5       0.99      0.92      0.96       892\n",
            "           6       0.98      0.99      0.98       958\n",
            "           7       0.98      0.96      0.97      1028\n",
            "           8       0.94      0.98      0.96       974\n",
            "           9       0.98      0.95      0.97      1009\n",
            "\n",
            "    accuracy                           0.97     10000\n",
            "   macro avg       0.97      0.97      0.97     10000\n",
            "weighted avg       0.97      0.97      0.97     10000\n",
            "\n"
          ]
        }
      ]
    },
    {
      "cell_type": "markdown",
      "source": [
        "Step 8: Plot the accuracy and loss curves"
      ],
      "metadata": {
        "id": "49NLa88ilI_m"
      }
    },
    {
      "cell_type": "code",
      "source": [
        "# Plot accuracy and loss curves\n",
        "plt.figure(figsize=(12, 4))\n",
        "plt.subplot(1, 2, 1)\n",
        "plt.plot(history.history['accuracy'], label='Training Accuracy')\n",
        "plt.plot(history.history['val_accuracy'], label='Validation Accuracy')\n",
        "plt.xlabel('Epochs')\n",
        "plt.ylabel('Accuracy')\n",
        "plt.legend()\n",
        "\n",
        "plt.subplot(1, 2, 2)\n",
        "plt.plot(history.history['loss'], label='Training Loss')\n",
        "plt.plot(history.history['val_loss'], label='Validation Loss')\n",
        "plt.xlabel('Epochs')\n",
        "plt.ylabel('Loss')\n",
        "plt.legend()\n",
        "\n",
        "plt.show()"
      ],
      "metadata": {
        "colab": {
          "base_uri": "https://localhost:8080/",
          "height": 388
        },
        "id": "XsZ9PpDKlkHv",
        "outputId": "a9519f12-ea64-4cac-f62f-35437c45e693"
      },
      "execution_count": null,
      "outputs": [
        {
          "output_type": "display_data",
          "data": {
            "text/plain": [
              "<Figure size 1200x400 with 2 Axes>"
            ],
            "image/png": "[encoded data removed]"
          },
          "metadata": {}
        }
      ]
    }
  ]
}